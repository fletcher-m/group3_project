{
 "cells": [
  {
   "cell_type": "markdown",
   "metadata": {
    "slideshow": {
     "slide_type": "slide"
    }
   },
   "source": [
    "# Beautiful Soup Tutorial \n",
    "\n",
    "By: Briana, Carly, Fletcher, and Oksana\n"
   ]
  },
  {
   "cell_type": "markdown",
   "metadata": {
    "slideshow": {
     "slide_type": "fragment"
    }
   },
   "source": [
    "\n",
    "<img src=\"../assets/beautifulsoup.jpg\" alt=\"beautifulSoup\" width=\"800\"/>\n"
   ]
  },
  {
   "cell_type": "markdown",
   "metadata": {
    "slideshow": {
     "slide_type": "slide"
    }
   },
   "source": [
    "\n",
    "### What is Beautiful Soup? \n"
   ]
  },
  {
   "cell_type": "markdown",
   "metadata": {
    "slideshow": {
     "slide_type": "fragment"
    }
   },
   "source": [
    "\n",
    "<img src=\"../assets/datascrapememe.jpeg\" alt=\"beautifulSoup\" width=\"800\"/>\n"
   ]
  },
  {
   "cell_type": "markdown",
   "metadata": {
    "slideshow": {
     "slide_type": "subslide"
    }
   },
   "source": [
    "\n",
    "A library for parsing information from a web page's HTML or XML code. This can include text data, links, images, and specific elements (titles, sections) from webpages. \n",
    "\n",
    "Beautiful Soup was created by Leonard Richardson, initially released in 2004. The last updated version (4) was released in April of 2023. It is only supported in Python.\n"
   ]
  },
  {
   "cell_type": "markdown",
   "metadata": {
    "slideshow": {
     "slide_type": "slide"
    }
   },
   "source": [
    "\n",
    "\n",
    "### Why Beautiful Soup? \n"
   ]
  },
  {
   "cell_type": "markdown",
   "metadata": {
    "slideshow": {
     "slide_type": "fragment"
    }
   },
   "source": [
    "\n",
    "<img src=\"../assets/bsmeme.jpeg\" alt=\"beautifulSoup\" width=\"400\"/>\n",
    "\n"
   ]
  },
  {
   "cell_type": "markdown",
   "metadata": {
    "slideshow": {
     "slide_type": "subslide"
    }
   },
   "source": [
    "\n",
    "Beautiful Soup provides a way to easily scrape data from a website that is not readily available as a .csv. It transforms the website data into specific python objects, which can be helpful for navigating, searching, and modifying data from the web.\n",
    "\n",
    "There are other libraries that have similar functions such as Selenium or Scrapy. BeautifulSoup is known for it's speed and is better for smaller scale simple web-scraping tasks. Selenium includes more options, for example, navigating between multiple pages and button clicks. Scrapy is best suited for large more complex scraping because it is a framework and does not require knowledge of Python to use.\n",
    "\n",
    "TLDR: The advantage of Beautiful Soup is that it's simple, fast, and relatively easy to learn in comparison to other scrapers. \n",
    "\n",
    "To Note: Web scraping can be risky depending on privacy policies of pages. Make sure to read the details of each website's policies prior to scrubbing the data. You can check the 'robots.txt' file on a website to determine if the data is publically accessible. \n",
    "\n",
    "\n"
   ]
  },
  {
   "cell_type": "markdown",
   "metadata": {
    "slideshow": {
     "slide_type": "slide"
    }
   },
   "source": [
    "\n",
    "### Installation Instructions:\n",
    "1. Run this in your terminal: \n",
    "```python\n",
    "    pip install beautifulsoup4\n",
    "```\n",
    "\n",
    "2. Add the libraries at the top of your code:\n",
    "\n",
    "```python\n",
    "    from bs4 import BeautifulSoup\n",
    "    import requests\n",
    "``````\n",
    "\n",
    "    Note on Dependencies:   \n",
    "\n",
    "    -Use the \"beautiful_group_3\" environment\n",
    "    -Import \"requests-html\" if you want to request dynamically generated content, handle authentication\n",
    "\n"
   ]
  },
  {
   "cell_type": "markdown",
   "metadata": {},
   "source": [
    "## Key Functions within Beautiful Soup\n",
    "\n",
    "### Creating a parse tree\n",
    "The primary function of Beautiful Soup is to convert HTML and XML files into a more organized structure, known as a __parse tree__. Other popular functions within this library are used for navigating, extracting, or editing information in the parse tree.\n",
    "    \n",
    "``` python\n",
    "    # store and retrieve url\n",
    "    url = 'https://en.wikipedia.org/wiki/'\n",
    "    r = requests.get(url) # NOTE: requests is an additional library\n",
    "    \n",
    "    # create the parse tree using prettify and an html parser\n",
    "    parse_tree = BeautifulSoup(r.text, 'html.parser')\n",
    "    parse_tree.prettify()\n",
    "```\n",
    "The __prettify()__ function will convert the HTML from a condensed format:\n",
    "\n",
    "```html\n",
    "    <html><head><title>The Dormouse's story</title></head><body>\n",
    "    <p class=\"title\"><b>The Dormouse's story</b></p>\n",
    "    <p class=\"story\">Once upon a time there were three little sisters; and their names were\n",
    "    <a href=\"http://example.com/elsie\" class=\"sister\" id=\"link1\">Elsie</a>,\n",
    "    <a href=\"http://example.com/lacie\" class=\"sister\" id=\"link2\">Lacie</a> and\n",
    "    <a href=\"http://example.com/tillie\" class=\"sister\" id=\"link3\">Tillie</a>;\n",
    "    and they lived at the bottom of a well.</p>\n",
    "    <p class=\"story\">...</p>\n",
    "```\n",
    "to a clearly nested parse tree: \n",
    "```html\n",
    "    # <html>\n",
    "    #  <head>\n",
    "    #   <title>\n",
    "    #    The Dormouse's story\n",
    "    #   </title>\n",
    "    #  </head>\n",
    "    #  <body>\n",
    "    #   <p class=\"title\">\n",
    "    #    <b>\n",
    "    #     The Dormouse's story\n",
    "    #    </b>\n",
    "    #   </p>\n",
    "    #   <p class=\"story\">\n",
    "    #    Once upon a time there were three little sisters; and their names were\n",
    "    #    <a class=\"sister\" href=\"http://example.com/elsie\" id=\"link1\">\n",
    "    #     Elsie\n",
    "    #    </a>\n",
    "    #    ...\n",
    "    #   </p>\n",
    "    #  </body>\n",
    "    # </html>\n",
    "```\n",
    "\n",
    "\n",
    "\n",
    "### Extract Information Using HTML Tags\n",
    "HTML tags are used to indicate the beginning and end of an HTML element. They are typically contained within '< >' In this first example, we are using the HTML tag __'title'__ in order to extract the title of the parse tree created using __prettify()__.\n",
    "\n",
    "#### Extract Title\n",
    "__HTML Code:__\n",
    "```html\n",
    "    <html>\n",
    "        <head>\n",
    "            <title>Our Example Title</title>\n",
    "        <head>\n",
    "    <html>\n",
    "```\n",
    "\n",
    "__In Python:__\n",
    "``` python\n",
    "    # HTML with a single title\n",
    "    print(parse_tree.title)\n",
    "    Our Example Title\n",
    "```\n",
    "\n",
    "##### Additional HTML Tags\n",
    "Uses these HTML tags to extract and print elements from the parse tree. \n",
    "\n",
    "|  HTML tag  |    Element Type   |\n",
    "|------------|-------------------|\n",
    "|    p       | paragraph of text |\n",
    "| h1, h2, h3 | header levels     |\n",
    "|    a       | hyperlink         |\n",
    "|   img      | image             |\n",
    "| ul         | unordered list    |\n",
    "| ol         | ordered list      |\n",
    "|  li        | item within a list|\n",
    "|  th        | table header      |\n",
    "|  td        | table data        |\n",
    "\n",
    "\n",
    "#### Searching the Parse Tree\n",
    "When extracting information using the HTML tag, only the first value with the matching element type will be printed. For example, running the code below will only print the first link in the parse tree. \n",
    " \n",
    "```Python\n",
    "    # Finding the first link in the tree\n",
    "    parse_tree.a\n",
    "    https//website-one.com\n",
    "```\n",
    "\n",
    "Search functions are used to extract values with the same element type. For example, the __find()__ and __find_all()__ functions can be used to extract all website links instead of only the first one.\n",
    "\n",
    "```Python\n",
    "    # Finding all the links in a HTML file\n",
    "    parse_tree.find_all('a')\n",
    "    https//website-one.com\n",
    "    https//website-two.com\n",
    "    https//website-three.com\n",
    "```\n",
    "\n",
    "### Navigating the Parse Tree\n",
    "The parse tree is a nested data structure where HTML tags and strings may be contained within other tags. Additional functions of the Beautiful Soup library are designed to move up, down, or sideways within the parse tree. \n",
    "\n",
    "* __Moving down the tree__\n",
    "    * .contents()\n",
    "    * .children()\n",
    "    * .descendants()\n",
    "* __Moving up the tree__\n",
    "    * .parent()\n",
    "    * .parents()\n",
    "* __Sideways__\n",
    "    * .next_sibling()\n",
    "    * .previous_sibling()\n",
    "* __Back and forth__\n",
    "    * .next_element()\n",
    "    * .previous_element()"
   ]
  },
  {
   "cell_type": "markdown",
   "metadata": {
    "slideshow": {
     "slide_type": "slide"
    }
   },
   "source": [
    "# Tutorial \n",
    "\n",
    "## Wildfire Data Example 1:"
   ]
  },
  {
   "cell_type": "code",
   "execution_count": 2,
   "metadata": {
    "slideshow": {
     "slide_type": "fragment"
    }
   },
   "outputs": [
    {
     "name": "stdout",
     "output_type": "stream",
     "text": [
      "Intel MKL WARNING: Support of Intel(R) Streaming SIMD Extensions 4.2 (Intel(R) SSE4.2) enabled only processors has been deprecated. Intel oneAPI Math Kernel Library 2025.0 will require Intel(R) Advanced Vector Extensions (Intel(R) AVX) instructions.\n",
      "Intel MKL WARNING: Support of Intel(R) Streaming SIMD Extensions 4.2 (Intel(R) SSE4.2) enabled only processors has been deprecated. Intel oneAPI Math Kernel Library 2025.0 will require Intel(R) Advanced Vector Extensions (Intel(R) AVX) instructions.\n"
     ]
    }
   ],
   "source": [
    "#Import Libraries Needed\n",
    "from bs4 import BeautifulSoup\n",
    "import pandas as pd \n",
    "import matplotlib.pyplot as plt\n",
    "import numpy as np\n",
    "import requests\n"
   ]
  },
  {
   "cell_type": "markdown",
   "metadata": {},
   "source": [
    "#### Get Data from the Web"
   ]
  },
  {
   "cell_type": "code",
   "execution_count": 3,
   "metadata": {
    "slideshow": {
     "slide_type": "fragment"
    }
   },
   "outputs": [],
   "source": [
    "# Define the URL of the page you are trying to scrape\n",
    "url = 'https://en.wikipedia.org/wiki/List_of_California_wildfires'\n",
    "# Send an HTTP GET request to the URL\n",
    "response = requests.get(url)\n",
    "# Check if the request was successful (status code 200)\n",
    "if response.status_code == 200:\n",
    "    # Parse the HTML content using Beautiful Soup\n",
    "    soup = BeautifulSoup(response.text, 'html.parser')\n",
    "    # Find the wildfire data table based on the HTML structure (you need to inspect the page)\n",
    "    table = soup.find('table', {'class': 'wikitable'})  # Assuming the table has 'wikitable' class\n"
   ]
  },
  {
   "cell_type": "markdown",
   "metadata": {},
   "source": [
    "#### Extract Rows and Columns and Translate into a DataFrame"
   ]
  },
  {
   "cell_type": "code",
   "execution_count": 4,
   "metadata": {
    "slideshow": {
     "slide_type": "fragment"
    }
   },
   "outputs": [
    {
     "name": "stdout",
     "output_type": "stream",
     "text": [
      "                          Name                                    County  \\\n",
      "0    1.       Camp[55][56][57]                                     Butte   \n",
      "1    2.          Griffith Park                               Los Angeles   \n",
      "2    3.                 Tunnel                                   Alameda   \n",
      "3    4.                 Thomas                    Ventura, Santa Barbara   \n",
      "4    5.                  Tubbs                              Napa, Sonoma   \n",
      "5    6.          North Complex                             Plumas, Butte   \n",
      "6    7.                  Cedar                                 San Diego   \n",
      "7    8.            Rattlesnake                                     Glenn   \n",
      "8    9.                   Loop                               Los Angeles   \n",
      "9    10           Hauser Creek                                 San Diego   \n",
      "10  11.                  Inaja                                 San Diego   \n",
      "11  12.      Iron Alps Complex                                   Trinity   \n",
      "12  13.         Redwood Valley                                 Mendocino   \n",
      "13  14.                 Harris                                 San Diego   \n",
      "14  15.                 Canyon                               Los Angeles   \n",
      "15  16.                   Carr                           Shasta, Trinity   \n",
      "16  17.  LNU Lightning Complex  Colusa, Lake, Napa, Sonoma, Solano, Yolo   \n",
      "17  18.                  Atlas                              Napa, Solano   \n",
      "18  19.                    Old                            San Bernardino   \n",
      "19  20.                 Decker                                 Riverside   \n",
      "\n",
      "      Acres Hectares     Start date Structures Deaths  \\\n",
      "0   153,336   62,050  November 2018     18,804     85   \n",
      "1        47       19   October 1933          0     29   \n",
      "2     1,600      650   October 1991      2,900     25   \n",
      "3   281,893  114,078  December 2017      1,063     23   \n",
      "4    36,807   14,895   October 2017      5,643     22   \n",
      "5   318,935  129,068    August 2020      2,352     15   \n",
      "6   273,246  110,579   October 2003      2,820     15   \n",
      "7     1,340      540      July 1953          0     15   \n",
      "8     2,028      821  November 1966          0     12   \n",
      "9    13,145    5,320   October 1943          0     11   \n",
      "10   43,904   17,767  November 1956          0     11   \n",
      "11  105,855   42,838    August 2008         10     10   \n",
      "12   36,523   14,780   October 2017        544      9   \n",
      "13   90,440   36,600   October 2007        548      8   \n",
      "14   22,197    8,983    August 1968          0      8   \n",
      "15  229,651   92,936      July 2018      1,614      8   \n",
      "16  363,220  146,990    August 2020      1,491      6   \n",
      "17   51,624   20,891   October 2017        781      6   \n",
      "18   91,281   36,940   October 2003      1,003      6   \n",
      "19    1,425      577    August 1959          1      6   \n",
      "\n",
      "                                                Notes  \n",
      "0   51 identified from Paradise, 11 from Magalia, ...  \n",
      "1           Deaths were RFC workers fighting the fire  \n",
      "2                                                      \n",
      "3   Fatalities (2 direct, 21 indirect) attributed ...  \n",
      "4                                                      \n",
      "5                                                      \n",
      "6                                                      \n",
      "7   All deaths were firefighters trying to outrun ...  \n",
      "8   All deaths were members of the El Cariso Hotshots  \n",
      "9                                                      \n",
      "10                                                     \n",
      "11                                                     \n",
      "12                                                     \n",
      "13                                                     \n",
      "14                                                     \n",
      "15                                                     \n",
      "16                                                     \n",
      "17                                                     \n",
      "18                                                     \n",
      "19                                                     \n"
     ]
    }
   ],
   "source": [
    " # Find all tables on the page\n",
    "tables = soup.find_all('table', {'class': 'wikitable'})\n",
    "    \n",
    "    # Check if the page has at least three tables\n",
    "if len(tables) >= 3:\n",
    "        # Select the 3rd table (index 2, as Python uses 0-based indexing)\n",
    "        table = tables[2]\n",
    "        \n",
    "        # Initialize lists to store data\n",
    "        headers = []\n",
    "        rows = []\n",
    "        \n",
    "        # Extract table headers\n",
    "        header_row = table.find('tr')\n",
    "        header_columns = header_row.find_all('th')\n",
    "        headers = [column.get_text().strip() for column in header_columns]\n",
    "        \n",
    "        # Extract table data\n",
    "        data_rows = table.find_all('tr')[1:]  # Skip the header row\n",
    "        for row in data_rows:\n",
    "            columns = row.find_all('td')\n",
    "            row_data = [column.get_text().strip() for column in columns]\n",
    "            rows.append(row_data)\n",
    "        \n",
    "        df = pd.DataFrame(rows, columns=headers)\n",
    "\n",
    "print(df)\n"
   ]
  },
  {
   "cell_type": "markdown",
   "metadata": {},
   "source": [
    "#### Plot Data"
   ]
  },
  {
   "cell_type": "code",
   "execution_count": 7,
   "metadata": {
    "slideshow": {
     "slide_type": "fragment"
    }
   },
   "outputs": [
    {
     "data": {
      "image/png": "[encoded data removed]",
      "text/plain": [
       "<Figure size 1200x600 with 1 Axes>"
      ]
     },
     "metadata": {},
     "output_type": "display_data"
    }
   ],
   "source": [
    "df_filtered = df.dropna(subset=[\"County\", \"Deaths\"])\n",
    "df[\"Deaths\"] = pd.to_numeric(df[\"Deaths\"], errors='coerce')\n",
    "\n",
    "# Sort the DataFrame by \"Deaths\" in descending ord\n",
    "df_sorted = df_filtered.sort_values(by=\"Deaths\", ascending=True)\n",
    "\n",
    "\n",
    "# Create a column chart\n",
    "plt.figure(figsize=(12, 6))\n",
    "plt.bar(df_sorted[\"County\"], df_sorted[\"Deaths\"][::-1], color='red')\n",
    "plt.xlabel(\"County\")\n",
    "plt.ylabel(\"Death Count\")\n",
    "plt.title(\"Death Numbers by County\")\n",
    "plt.xticks(rotation=45, ha='right')\n",
    "plt.ylim(0.85)\n",
    "\n",
    "# Show the column chart\n",
    "plt.tight_layout()\n",
    "plt.show()"
   ]
  },
  {
   "cell_type": "markdown",
   "metadata": {
    "slideshow": {
     "slide_type": "slide"
    }
   },
   "source": [
    "## Wildfire Data Example 2: "
   ]
  },
  {
   "cell_type": "markdown",
   "metadata": {
    "slideshow": {
     "slide_type": "subslide"
    }
   },
   "source": [
    "#### Define and Get Data"
   ]
  },
  {
   "cell_type": "code",
   "execution_count": 23,
   "metadata": {
    "slideshow": {
     "slide_type": "fragment"
    }
   },
   "outputs": [
    {
     "name": "stdout",
     "output_type": "stream",
     "text": [
      "                          Name                                    County  \\\n",
      "0    1.       Camp[55][56][57]                                     Butte   \n",
      "1    2.          Griffith Park                               Los Angeles   \n",
      "2    3.                 Tunnel                                   Alameda   \n",
      "3    4.                 Thomas                    Ventura, Santa Barbara   \n",
      "4    5.                  Tubbs                              Napa, Sonoma   \n",
      "5    6.          North Complex                             Plumas, Butte   \n",
      "6    7.                  Cedar                                 San Diego   \n",
      "7    8.            Rattlesnake                                     Glenn   \n",
      "8    9.                   Loop                               Los Angeles   \n",
      "9    10           Hauser Creek                                 San Diego   \n",
      "10  11.                  Inaja                                 San Diego   \n",
      "11  12.      Iron Alps Complex                                   Trinity   \n",
      "12  13.         Redwood Valley                                 Mendocino   \n",
      "13  14.                 Harris                                 San Diego   \n",
      "14  15.                 Canyon                               Los Angeles   \n",
      "15  16.                   Carr                           Shasta, Trinity   \n",
      "16  17.  LNU Lightning Complex  Colusa, Lake, Napa, Sonoma, Solano, Yolo   \n",
      "17  18.                  Atlas                              Napa, Solano   \n",
      "18  19.                    Old                            San Bernardino   \n",
      "19  20.                 Decker                                 Riverside   \n",
      "\n",
      "      Acres Hectares     Start date Structures Deaths  \\\n",
      "0   153,336   62,050  November 2018     18,804     85   \n",
      "1        47       19   October 1933          0     29   \n",
      "2     1,600      650   October 1991      2,900     25   \n",
      "3   281,893  114,078  December 2017      1,063     23   \n",
      "4    36,807   14,895   October 2017      5,643     22   \n",
      "5   318,935  129,068    August 2020      2,352     15   \n",
      "6   273,246  110,579   October 2003      2,820     15   \n",
      "7     1,340      540      July 1953          0     15   \n",
      "8     2,028      821  November 1966          0     12   \n",
      "9    13,145    5,320   October 1943          0     11   \n",
      "10   43,904   17,767  November 1956          0     11   \n",
      "11  105,855   42,838    August 2008         10     10   \n",
      "12   36,523   14,780   October 2017        544      9   \n",
      "13   90,440   36,600   October 2007        548      8   \n",
      "14   22,197    8,983    August 1968          0      8   \n",
      "15  229,651   92,936      July 2018      1,614      8   \n",
      "16  363,220  146,990    August 2020      1,491      6   \n",
      "17   51,624   20,891   October 2017        781      6   \n",
      "18   91,281   36,940   October 2003      1,003      6   \n",
      "19    1,425      577    August 1959          1      6   \n",
      "\n",
      "                                                Notes  \n",
      "0   51 identified from Paradise, 11 from Magalia, ...  \n",
      "1           Deaths were RFC workers fighting the fire  \n",
      "2                                                      \n",
      "3   Fatalities (2 direct, 21 indirect) attributed ...  \n",
      "4                                                      \n",
      "5                                                      \n",
      "6                                                      \n",
      "7   All deaths were firefighters trying to outrun ...  \n",
      "8   All deaths were members of the El Cariso Hotshots  \n",
      "9                                                      \n",
      "10                                                     \n",
      "11                                                     \n",
      "12                                                     \n",
      "13                                                     \n",
      "14                                                     \n",
      "15                                                     \n",
      "16                                                     \n",
      "17                                                     \n",
      "18                                                     \n",
      "19                                                     \n"
     ]
    }
   ],
   "source": [
    "# Define the URL of the Wikipedia page\n",
    "url = 'https://en.wikipedia.org/wiki/List_of_California_wildfires'\n",
    "# Send an HTTP GET request to the URL\n",
    "response = requests.get(url)\n",
    "# Check if the request was successful (status code 200)\n",
    "if response.status_code == 200:\n",
    "    # Parse the HTML content using Beautiful Soup\n",
    "    soup = BeautifulSoup(response.text, 'html.parser')\n",
    "    # Find the wildfire data table based on the HTML structure (you need to inspect the page)\n",
    "    deadly_fires_table = soup.find_all('table', {'class': 'wikitable'})[2]  # Assuming the table has 'wikitable' class\n",
    "\n",
    "# Check if the table was found\n",
    "\n",
    "    if deadly_fires_table:\n",
    "        # Initialize lists to store data\n",
    "        headers = []\n",
    "        rows = []\n",
    "        # Extract table headers\n",
    "        header_row = deadly_fires_table.find('tr')\n",
    "        header_columns = header_row.find_all('th')\n",
    "        headers = [column.get_text().strip() for column in header_columns]\n",
    "        # Extract table data\n",
    "        data_rows = deadly_fires_table.find_all('tr')[1:]  # Skip the header row\n",
    "        for row in data_rows:\n",
    "            columns = row.find_all('td')\n",
    "            row_data = [column.get_text().strip() for column in columns]\n",
    "            rows.append(row_data)\n",
    "        # Create a DataFrame from the extracted data\n",
    "        deadly_fires_df = pd.DataFrame(rows, columns=headers)\n",
    "        # Display the DataFrame\n",
    "        print(deadly_fires_df)\n",
    "    else:\n",
    "        print('Wildfire data table not found on the page.')\n",
    "else:\n",
    "    print(f'Failed to retrieve the Wikipedia page. Status Code: {response.status_code}')\n",
    "  "
   ]
  },
  {
   "cell_type": "markdown",
   "metadata": {},
   "source": [
    "#### Process and transform scraped data for further analysis"
   ]
  },
  {
   "cell_type": "code",
   "execution_count": 24,
   "metadata": {
    "slideshow": {
     "slide_type": "fragment"
    }
   },
   "outputs": [
    {
     "data": {
      "text/html": [
       "<div>\n",
       "<style scoped>\n",
       "    .dataframe tbody tr th:only-of-type {\n",
       "        vertical-align: middle;\n",
       "    }\n",
       "\n",
       "    .dataframe tbody tr th {\n",
       "        vertical-align: top;\n",
       "    }\n",
       "\n",
       "    .dataframe thead th {\n",
       "        text-align: right;\n",
       "    }\n",
       "</style>\n",
       "<table border=\"1\" class=\"dataframe\">\n",
       "  <thead>\n",
       "    <tr style=\"text-align: right;\">\n",
       "      <th></th>\n",
       "      <th></th>\n",
       "      <th>Name</th>\n",
       "      <th>County</th>\n",
       "      <th>Acres</th>\n",
       "      <th>Hectares</th>\n",
       "      <th>Start date</th>\n",
       "      <th>Structures</th>\n",
       "      <th>Deaths</th>\n",
       "      <th>Notes</th>\n",
       "      <th>Year</th>\n",
       "    </tr>\n",
       "  </thead>\n",
       "  <tbody>\n",
       "    <tr>\n",
       "      <th>14</th>\n",
       "      <td>15.</td>\n",
       "      <td>Canyon</td>\n",
       "      <td>Los Angeles</td>\n",
       "      <td>NaN</td>\n",
       "      <td>NaN</td>\n",
       "      <td>August 1968</td>\n",
       "      <td>0.0</td>\n",
       "      <td>8</td>\n",
       "      <td></td>\n",
       "      <td>1968</td>\n",
       "    </tr>\n",
       "    <tr>\n",
       "      <th>15</th>\n",
       "      <td>16.</td>\n",
       "      <td>Carr</td>\n",
       "      <td>Shasta, Trinity</td>\n",
       "      <td>NaN</td>\n",
       "      <td>NaN</td>\n",
       "      <td>July 2018</td>\n",
       "      <td>NaN</td>\n",
       "      <td>8</td>\n",
       "      <td></td>\n",
       "      <td>2018</td>\n",
       "    </tr>\n",
       "    <tr>\n",
       "      <th>13</th>\n",
       "      <td>14.</td>\n",
       "      <td>Harris</td>\n",
       "      <td>San Diego</td>\n",
       "      <td>NaN</td>\n",
       "      <td>NaN</td>\n",
       "      <td>October 2007</td>\n",
       "      <td>548.0</td>\n",
       "      <td>8</td>\n",
       "      <td></td>\n",
       "      <td>2007</td>\n",
       "    </tr>\n",
       "    <tr>\n",
       "      <th>0</th>\n",
       "      <td>1.</td>\n",
       "      <td>Camp[55][56][57]</td>\n",
       "      <td>Butte</td>\n",
       "      <td>NaN</td>\n",
       "      <td>NaN</td>\n",
       "      <td>November 2018</td>\n",
       "      <td>NaN</td>\n",
       "      <td>85</td>\n",
       "      <td>51 identified from Paradise, 11 from Magalia, ...</td>\n",
       "      <td>2018</td>\n",
       "    </tr>\n",
       "    <tr>\n",
       "      <th>12</th>\n",
       "      <td>13.</td>\n",
       "      <td>Redwood Valley</td>\n",
       "      <td>Mendocino</td>\n",
       "      <td>NaN</td>\n",
       "      <td>NaN</td>\n",
       "      <td>October 2017</td>\n",
       "      <td>544.0</td>\n",
       "      <td>9</td>\n",
       "      <td></td>\n",
       "      <td>2017</td>\n",
       "    </tr>\n",
       "  </tbody>\n",
       "</table>\n",
       "</div>"
      ],
      "text/plain": [
       "                     Name           County  Acres  Hectares     Start date  \\\n",
       "14  15.            Canyon      Los Angeles    NaN       NaN    August 1968   \n",
       "15  16.              Carr  Shasta, Trinity    NaN       NaN      July 2018   \n",
       "13  14.            Harris        San Diego    NaN       NaN   October 2007   \n",
       "0    1.  Camp[55][56][57]            Butte    NaN       NaN  November 2018   \n",
       "12  13.    Redwood Valley        Mendocino    NaN       NaN   October 2017   \n",
       "\n",
       "    Structures  Deaths                                              Notes  \\\n",
       "14         0.0       8                                                      \n",
       "15         NaN       8                                                      \n",
       "13       548.0       8                                                      \n",
       "0          NaN      85  51 identified from Paradise, 11 from Magalia, ...   \n",
       "12       544.0       9                                                      \n",
       "\n",
       "    Year  \n",
       "14  1968  \n",
       "15  2018  \n",
       "13  2007  \n",
       "0   2018  \n",
       "12  2017  "
      ]
     },
     "execution_count": 24,
     "metadata": {},
     "output_type": "execute_result"
    }
   ],
   "source": [
    "# Convert the DateColumn to datetime and then extract the year\n",
    "deadly_fires_df['Year'] = pd.to_datetime(deadly_fires_df['Start date'], format=\"%B %Y\").dt.year\n",
    "\n",
    "# Sort dataframes by deaths count in Asceding order\n",
    "deadly_fires_df.sort_values(by='Deaths', inplace=True)\n",
    "\n",
    "# Convert column to correct data type\n",
    "deadly_fires_df['Acres'] = pd.to_numeric(deadly_fires_df['Acres'], errors='coerce')\n",
    "deadly_fires_df['Hectares'] = pd.to_numeric(deadly_fires_df['Hectares'], errors='coerce')\n",
    "deadly_fires_df['Structures'] = pd.to_numeric(deadly_fires_df['Structures'], errors='coerce')\n",
    "deadly_fires_df['Deaths'] = pd.to_numeric(deadly_fires_df['Deaths'], errors='coerce')\n",
    "deadly_fires_df['Year'] = deadly_fires_df['Year'].astype('int')  # Assuming 'Year' should be an integer\n",
    "# Print the updated DataFrame\n",
    "deadly_fires_df.tail()"
   ]
  },
  {
   "cell_type": "markdown",
   "metadata": {
    "slideshow": {
     "slide_type": "subslide"
    }
   },
   "source": [
    "#### Visualize scraped data "
   ]
  },
  {
   "cell_type": "code",
   "execution_count": 25,
   "metadata": {
    "slideshow": {
     "slide_type": "fragment"
    }
   },
   "outputs": [
    {
     "ename": "NameError",
     "evalue": "name 'ax' is not defined",
     "output_type": "error",
     "traceback": [
      "\u001b[0;31m---------------------------------------------------------------------------\u001b[0m",
      "\u001b[0;31mNameError\u001b[0m                                 Traceback (most recent call last)",
      "Cell \u001b[0;32mIn[25], line 17\u001b[0m\n\u001b[1;32m     14\u001b[0m plt\u001b[39m.\u001b[39mtitle(\u001b[39m'\u001b[39m\u001b[39m20 Deadliest Wildfires in California\u001b[39m\u001b[39m'\u001b[39m)\n\u001b[1;32m     16\u001b[0m \u001b[39m# annotate each bar with wildfire name\u001b[39;00m\n\u001b[0;32m---> 17\u001b[0m plt\u001b[39m.\u001b[39mtext(\u001b[39m0.7\u001b[39m, \u001b[39m0.88\u001b[39m, \u001b[39m'\u001b[39m\u001b[39mThe Camp Fire, Nov-2018\u001b[39m\u001b[39m'\u001b[39m, ha\u001b[39m=\u001b[39m\u001b[39m'\u001b[39m\u001b[39mcenter\u001b[39m\u001b[39m'\u001b[39m, va\u001b[39m=\u001b[39m\u001b[39m'\u001b[39m\u001b[39mcenter\u001b[39m\u001b[39m'\u001b[39m, transform\u001b[39m=\u001b[39max\u001b[39m.\u001b[39mtransAxes)\n\u001b[1;32m     19\u001b[0m \u001b[39m# Display the plot\u001b[39;00m\n\u001b[1;32m     20\u001b[0m plt\u001b[39m.\u001b[39mshow()\n",
      "\u001b[0;31mNameError\u001b[0m: name 'ax' is not defined"
     ]
    },
    {
     "data": {
      "image/png": "[encoded data removed]",
      "text/plain": [
       "<Figure size 1000x600 with 1 Axes>"
      ]
     },
     "metadata": {},
     "output_type": "display_data"
    }
   ],
   "source": [
    "import matplotlib.pyplot as plt\n",
    "\n",
    "# Create a figure with a specified size\n",
    "fig = plt.figure(figsize=(10, 6))\n",
    "\n",
    "# Create a bar chart with specified data\n",
    "plt.bar(deadly_fires_df['Year'], deadly_fires_df['Deaths'], color='#FF6B00', width=2)\n",
    "\n",
    "# Set labels for the x and y axes\n",
    "plt.xlabel('Year')\n",
    "plt.ylabel('Number of Deaths Due to Wildfire')\n",
    "\n",
    "# Set the title of the plot\n",
    "plt.title('20 Deadliest Wildfires in California')\n",
    "\n",
    "# annotate each bar with wildfire name\n",
    "plt.text(0.7, 0.88, 'The Camp Fire, Nov-2018', ha='center', va='center', transform=ax.transAxes)\n",
    "\n",
    "# Display the plot\n",
    "plt.show()\n"
   ]
  },
  {
   "cell_type": "code",
   "execution_count": 26,
   "metadata": {
    "slideshow": {
     "slide_type": "fragment"
    }
   },
   "outputs": [
    {
     "data": {
      "image/png": "[encoded data removed]",
      "text/plain": [
       "<Figure size 640x480 with 1 Axes>"
      ]
     },
     "metadata": {},
     "output_type": "display_data"
    }
   ],
   "source": [
    "# Create a scatter plot\n",
    "plt.scatter(deadly_fires_df['Year'], deadly_fires_df['Deaths'], color='darkorange', label='Data', marker='o')\n",
    "\n",
    "# Fit a linear trend line\n",
    "coefficients = np.polyfit(deadly_fires_df['Year'], deadly_fires_df['Deaths'], 1)\n",
    "trend_line = np.poly1d(coefficients)\n",
    "plt.plot(deadly_fires_df['Year'], trend_line(deadly_fires_df['Year']), color='red', linestyle='--', label='Trend Line')\n",
    "\n",
    "plt.xlabel('Year')\n",
    "plt.ylabel('Number of Deaths Due to Wildfire')\n",
    "plt.title('20 Deadliest Wildfires in California')\n",
    "plt.legend()\n",
    "\n",
    "plt.show()"
   ]
  },
  {
   "cell_type": "markdown",
   "metadata": {
    "slideshow": {
     "slide_type": "slide"
    }
   },
   "source": [
    "### Potential Use in Environmental Data Science:\n",
    "\n",
    "- **Environmental Monitoring**: Web scraping enables the retrieval of real-time or near-real-time data regularly updated from multiple sources (e.g., air quality, weather monitoring). This provides a timely and accurate view of specific environmental issues.\n",
    "\n",
    "- **Environmental Data Collection**: It allows for the collection of data from sources that do not always offer direct access to the source data (e.g., PDFs, Internet archives, government reports, NGOs reports, DataONE xml files, data in shiny apps). \n",
    "\n",
    "- **Extraction and Organization of Data from Remote Sensing Sources**: This includes data from satellite imagery and aerial drones.\n",
    "\n",
    "- **Ability to Scrape Data from Various Sources with Varying Formats**: This capability enables the monitoring and analysis of emerging environmental patterns (e.g., wildlife populations, habitat quality, urban ecosystems).\n",
    "\n"
   ]
  },
  {
   "cell_type": "markdown",
   "metadata": {
    "slideshow": {
     "slide_type": "slide"
    }
   },
   "source": [
    "### Limitations & Permissioning:\n",
    "\n",
    "* Beautifulsoup4 is great for working with smaller data sets from static webpages (blogs, Wikipedia pages, any \"read only\" pages), but not great if you're looking to a whole website or very large data sets\n",
    "\n",
    "* Only parses data, so you'll need another tool (like requests) to extract the data\n",
    "\n",
    "* Only works with python\n",
    "\n",
    "* Only works for HTML or XML files (will NOT work for JavaScript rendered web pages)\n",
    "\n",
    "\n",
    "### Other Options for More Complex Web Scraping:\n",
    "\n",
    "* Scrapy -> good for large-scale data\n",
    "\n",
    "* Selenium -> can handle dynamic web pages\n"
   ]
  },
  {
   "cell_type": "markdown",
   "metadata": {
    "slideshow": {
     "slide_type": "slide"
    }
   },
   "source": [
    "\n",
    "### Resources: \n",
    "Project is located here:\n",
    "\n",
    "https://github.com/fletcher-m/group3_project \n",
    "\n",
    "About Beautiful Soup:\n",
    "\n",
    "https://realpython.com/beautiful-soup-web-scraper-python/\n",
    "\n",
    "Additional Resources:\n",
    "\n",
    "https://www.crummy.com/software/BeautifulSoup/bs4/doc/\n",
    "\n",
    "https://www.topcoder.com/thrive/articles/web-scraping-with-beautiful-soup\n"
   ]
  }
 ],
 "metadata": {
  "kernelspec": {
   "display_name": "beautiful_group_3",
   "language": "python",
   "name": "python3"
  },
  "language_info": {
   "codemirror_mode": {
    "name": "ipython",
    "version": 3
   },
   "file_extension": ".py",
   "mimetype": "text/x-python",
   "name": "python",
   "nbconvert_exporter": "python",
   "pygments_lexer": "ipython3",
   "version": "3.10.13"
  },
  "orig_nbformat": 4
 },
 "nbformat": 4,
 "nbformat_minor": 2
}
